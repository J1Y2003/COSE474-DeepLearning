{
  "nbformat": 4,
  "nbformat_minor": 0,
  "metadata": {
    "colab": {
      "provenance": [],
      "mount_file_id": "1uB-10g_wJWaBYinQWK4mtuL0idadFC_w",
      "authorship_tag": "ABX9TyMdTyhspd47YMO/A4eHbhBz",
      "include_colab_link": true
    },
    "kernelspec": {
      "name": "python3",
      "display_name": "Python 3"
    },
    "language_info": {
      "name": "python"
    }
  },
  "cells": [
    {
      "cell_type": "markdown",
      "metadata": {
        "id": "view-in-github",
        "colab_type": "text"
      },
      "source": [
        "<a href=\"https://colab.research.google.com/github/J1Y2003/COSE474-DeepLearning/blob/main/hw2/hw2.ipynb\" target=\"_parent\"><img src=\"https://colab.research.google.com/assets/colab-badge.svg\" alt=\"Open In Colab\"/></a>"
      ]
    },
    {
      "cell_type": "code",
      "source": [
        "%cd /content/drive/MyDrive/2학년\\ 2학기/Deep\\ Learning/COSE474-DeepLearning/hw2"
      ],
      "metadata": {
        "colab": {
          "base_uri": "https://localhost:8080/"
        },
        "id": "bmJNpfg0t640",
        "outputId": "36330f1f-6b8c-45f7-88d2-56f1c82af760"
      },
      "execution_count": null,
      "outputs": [
        {
          "output_type": "stream",
          "name": "stdout",
          "text": [
            "/content/drive/MyDrive/2학년 2학기/Deep Learning/COSE474-DeepLearning/hw2\n"
          ]
        }
      ]
    },
    {
      "cell_type": "code",
      "execution_count": null,
      "metadata": {
        "colab": {
          "base_uri": "https://localhost:8080/",
          "height": 574
        },
        "id": "HVOL-Hy3rSe6",
        "outputId": "9906d69f-3853-4d45-8874-447611766bd5"
      },
      "outputs": [
        {
          "output_type": "stream",
          "name": "stdout",
          "text": [
            "number of classes:  4  sigma for data scatter: 1.0\n",
            "generating training data\n",
            "400 data points generated. Seed is random.\n"
          ]
        },
        {
          "output_type": "display_data",
          "data": {
            "text/plain": [
              "<Figure size 640x480 with 1 Axes>"
            ],
            "image/png": "[encoded data removed]"
          },
          "metadata": {}
        },
        {
          "output_type": "stream",
          "name": "stdout",
          "text": [
            "generating test data\n",
            "100 data points generated. Seed is random.\n",
            "training softmax classifier...\n",
            "testing softmax classifier...\n",
            "accuracy of softmax loss:  95.0 %\n"
          ]
        }
      ],
      "source": [
        "'''\n",
        "HW2 problem\n",
        "'''\n",
        "\n",
        "import sys\n",
        "import os\n",
        "import matplotlib.pyplot as plt\n",
        "import numpy as np\n",
        "from scipy import stats\n",
        "import scipy.special as sp\n",
        "import time\n",
        "from scipy.optimize import minimize\n",
        "\n",
        "import data_generator as dg\n",
        "\n",
        "# you can define/use whatever functions to implememt\n",
        "\n",
        "def softmax(input_matrix): #softmax function for binary feature(2D) matrices\n",
        "  exp_input_matrix = np.exp(input_matrix)\n",
        "  return (exp_input_matrix.T / np.sum(exp_input_matrix, 1).T).T\n",
        "\n",
        "\n",
        "########################################\n",
        "# cross entropy loss\n",
        "########################################\n",
        "def cross_entropy_softmax_loss(Wb, x, y, num_class, n, feat_dim):\n",
        "  # implement your function here\n",
        "\n",
        "  W = np.reshape(Wb[:-num_class], (num_class, feat_dim))\n",
        "  b = Wb[-num_class:]\n",
        "  scores = np.matmul(x, W.T) + b  #at this point we're left with 400 x 4 matrix, now need to softmax\n",
        "  softmax_scores = softmax(scores)\n",
        "  log_scores = np.log(softmax_scores)\n",
        "  result = sum(log_scores[range(0, n), y]) * (-1 / n)\n",
        "\n",
        "  # return cross entropy loss\n",
        "  return result\n",
        "  pass\n",
        "\n",
        "# now lets test the model for linear models, that is, SVM and softmax\n",
        "def linear_classifier_test(Wb, x, y, num_class):\n",
        "  n_test = x.shape[0]\n",
        "  feat_dim = x.shape[1]\n",
        "\n",
        "  Wb = np.reshape(Wb, (-1, 1))\n",
        "  b = Wb[-num_class:].squeeze()\n",
        "  W = np.reshape(Wb[:-num_class], (num_class, feat_dim))\n",
        "  accuracy = 0\n",
        "\n",
        "  # W has shape (num_class, feat_dim), b has shape (num_class,)\n",
        "\n",
        "  # score\n",
        "  s = x@W.T + b\n",
        "  # score has shape (n_test, num_class)\n",
        "\n",
        "  # get argmax over class dim\n",
        "  res = np.argmax(s, axis = 1)\n",
        "\n",
        "  # get accuracy\n",
        "  accuracy = (res == y).astype('uint8').sum()/n_test\n",
        "\n",
        "  return accuracy\n",
        "\n",
        "\n",
        "# number of classes: this can be either 3 or 4\n",
        "num_class = 4\n",
        "\n",
        "# sigma controls the degree of data scattering. Larger sigma gives larger scatter\n",
        "# default is 1.0. Accuracy becomes lower with larger sigma\n",
        "sigma = 1.0\n",
        "\n",
        "print('number of classes: ',num_class,' sigma for data scatter:',sigma)\n",
        "if num_class == 4:\n",
        "  n_train = 400\n",
        "  n_test = 100\n",
        "  feat_dim = 2\n",
        "else:  # then 3\n",
        "  n_train = 300\n",
        "  n_test = 60\n",
        "  feat_dim = 2\n",
        "\n",
        "# generate train dataset\n",
        "print('generating training data')\n",
        "x_train, y_train = dg.generate(number=n_train, seed=None, plot=True, num_class=num_class, sigma=sigma)\n",
        "\n",
        "# generate test dataset\n",
        "print('generating test data')\n",
        "x_test, y_test = dg.generate(number=n_test, seed=None, plot=False, num_class=num_class, sigma=sigma)\n",
        "\n",
        "# start training softmax classifier\n",
        "print('training softmax classifier...')\n",
        "w0 = np.random.normal(0, 1, (2 * num_class + num_class))\n",
        "result = minimize(cross_entropy_softmax_loss, w0, args=(x_train, y_train, num_class, n_train, feat_dim))\n",
        "\n",
        "print('testing softmax classifier...')\n",
        "\n",
        "Wb = result.x\n",
        "print('accuracy of softmax loss: ', linear_classifier_test(Wb, x_test, y_test, num_class)*100,'%')\n"
      ]
    }
  ]
}